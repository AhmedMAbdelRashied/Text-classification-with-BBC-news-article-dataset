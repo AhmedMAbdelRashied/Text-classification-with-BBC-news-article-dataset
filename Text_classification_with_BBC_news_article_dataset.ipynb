{
  "nbformat": 4,
  "nbformat_minor": 0,
  "metadata": {
    "colab": {
      "provenance": []
    },
    "kernelspec": {
      "name": "python3",
      "display_name": "Python 3"
    },
    "language_info": {
      "name": "python"
    }
  },
  "cells": [
    {
      "cell_type": "code",
      "metadata": {
        "id": "bH-_KJiDb6U-"
      },
      "source": [
        "import csv\n",
        "import tensorflow as tf\n",
        "from tensorflow.keras.preprocessing.text import Tokenizer\n",
        "from tensorflow.keras.preprocessing.sequence import pad_sequences"
      ],
      "execution_count": null,
      "outputs": []
    },
    {
      "cell_type": "code",
      "metadata": {
        "id": "7B9m3ja5cOnk"
      },
      "source": [
        "vocab_size=1000         # num of words\n",
        "embedding_dim=16        # word embedding dimensions\n",
        "max_length=120          # max length of sentence\n",
        "trunc_type='post'\n",
        "padding_type='post'\n",
        "ovv_tok='<OOV>'         # unknown words clsdd OVV\n",
        "training_portion=0.8    # training data set ratio"
      ],
      "execution_count": null,
      "outputs": []
    },
    {
      "cell_type": "code",
      "metadata": {
        "id": "Pvd7b3CHdmiR"
      },
      "source": [
        "sentences=[]\n",
        "labels =[]"
      ],
      "execution_count": null,
      "outputs": []
    },
    {
      "cell_type": "code",
      "metadata": {
        "colab": {
          "base_uri": "https://localhost:8080/"
        },
        "id": "3tknVbwofx0c",
        "outputId": "24eee186-2977-4c4e-a03e-fe36006302a3"
      },
      "source": [
        "import nltk\n",
        "nltk.download('stopwords')\n",
        "from nltk.corpus import stopwords\n",
        "stop_word=stopwords.words('english')"
      ],
      "execution_count": null,
      "outputs": [
        {
          "output_type": "stream",
          "name": "stdout",
          "text": [
            "[nltk_data] Downloading package stopwords to /root/nltk_data...\n",
            "[nltk_data]   Package stopwords is already up-to-date!\n"
          ]
        }
      ]
    },
    {
      "cell_type": "code",
      "metadata": {
        "id": "CAWL48kXec88"
      },
      "source": [
        "with open('/content/bbc-text (1).csv','r') as csvfile:\n",
        "    reader=csv.reader(csvfile,delimiter=',')\n",
        "    for row in reader:\n",
        "        if row[0]!='category':\n",
        "            labels.append(row[0])\n",
        "            sentence=row[1]\n",
        "            for word in stop_word:\n",
        "                token=\" \"+word+\" \"\n",
        "                sentence=sentence.replace(token,\" \")\n",
        "            sentences.append(sentence)\n",
        "\n",
        "        else:\n",
        "            continue\n",
        "\n",
        "\n",
        "\n"
      ],
      "execution_count": null,
      "outputs": []
    },
    {
      "cell_type": "code",
      "metadata": {
        "colab": {
          "base_uri": "https://localhost:8080/"
        },
        "id": "kgjRMOKJgmcV",
        "outputId": "8eeff055-7629-4869-f98d-77ed4724dd6f"
      },
      "source": [
        "print(len(labels))\n",
        "print(len(sentences))\n",
        "print(sentences[0])\n",
        "print(labels[0])"
      ],
      "execution_count": null,
      "outputs": [
        {
          "output_type": "stream",
          "name": "stdout",
          "text": [
            "2225\n",
            "2225\n",
            "tv future hands viewers home theatre systems  plasma high-definition tvs  digital video recorders moving living room  way people watch tv radically different five years  time.  according expert panel gathered annual consumer electronics show las vegas discuss new technologies impact one favourite pastimes. us leading trend  programmes content delivered viewers via home networks  cable  satellite  telecoms companies  broadband service providers front rooms portable devices.  one talked-about technologies ces digital personal video recorders (dvr pvr). set-top boxes  like us tivo uk sky+ system  allow people record  store  play  pause forward wind tv programmes want.  essentially  technology allows much personalised tv. also built-in high-definition tv sets  big business japan us  slower take europe lack high-definition programming. people forward wind adverts  also forget abiding network channel schedules  putting together a-la-carte entertainment. us networks cable satellite companies worried means terms advertising revenues well  brand identity  viewer loyalty channels. although us leads technology moment  also concern raised europe  particularly growing uptake services like sky+.  happens today  see nine months years  time uk   adam hume  bbc broadcast futurologist told bbc news website. likes bbc  issues lost advertising revenue yet. pressing issue moment commercial uk broadcasters  brand loyalty important everyone.  talking content brands rather network brands   said tim hanlon  brand communications firm starcom mediavest.  reality broadband connections  anybody producer content.  added:  challenge is hard promote programme much choice.   means  said stacey jolna  senior vice president tv guide tv group  way people find content want watch simplified tv viewers. means networks  us terms  channels could take leaf google book search engine future  instead scheduler help people find want watch. kind channel model might work younger ipod generation used taking control gadgets play them. might suit everyone  panel recognised. older generations comfortable familiar schedules channel brands know getting. perhaps want much choice put hands  mr hanlon suggested.  end  kids diapers pushing buttons already - everything possible available   said mr hanlon.  ultimately  consumer tell market want.   50 000 new gadgets technologies showcased ces  many enhancing tv-watching experience. high-definition tv sets everywhere many new models lcd (liquid crystal display) tvs launched dvr capability built  instead external boxes. one example launched show humax 26-inch lcd tv 80-hour tivo dvr dvd recorder. one us biggest satellite tv companies  directtv  even launched branded dvr show 100-hours recording capability  instant replay  search function. set pause rewind tv 90 hours. microsoft chief bill gates announced pre-show keynote speech partnership tivo  called tivotogo  means people play recorded programmes windows pcs mobile devices. reflect increasing trend freeing multimedia people watch want  want.\n",
            "tech\n"
          ]
        }
      ]
    },
    {
      "cell_type": "code",
      "metadata": {
        "colab": {
          "base_uri": "https://localhost:8080/"
        },
        "id": "TR9LjZuVjrcl",
        "outputId": "1ea4db23-0ea1-4814-e1d9-1a9cdaec5fd5"
      },
      "source": [
        "train_size=int(len(sentences)*training_portion)\n",
        "y_train=labels[:train_size]\n",
        "X_train=sentences[:train_size]\n",
        "\n",
        "y_test=labels[train_size:]\n",
        "X_test=sentences[train_size:]\n",
        "print(f'training data size = {len(X_train)}')\n",
        "\n",
        "print(f'training labels size = {len(y_train)}')\n",
        "\n",
        "print(f'test data size = {len(X_test)}')\n",
        "\n",
        "print(f'test labels size = {len(y_test)}')"
      ],
      "execution_count": null,
      "outputs": [
        {
          "output_type": "stream",
          "name": "stdout",
          "text": [
            "training data size = 1780\n",
            "training labels size = 1780\n",
            "test data size = 445\n",
            "test labels size = 445\n"
          ]
        }
      ]
    },
    {
      "cell_type": "code",
      "metadata": {
        "id": "ViN8eMa3g6r1"
      },
      "source": [
        "tokenizer=Tokenizer(num_words=vocab_size,oov_token=ovv_tok)\n",
        "tokenizer.fit_on_texts(X_train)\n",
        "word_index=tokenizer.word_index"
      ],
      "execution_count": null,
      "outputs": []
    },
    {
      "cell_type": "code",
      "metadata": {
        "id": "Kja1fYkCiyFk"
      },
      "source": [
        "X_train = tokenizer.texts_to_sequences(X_train)\n",
        "train_padded= pad_sequences(X_train,padding=padding_type,maxlen=max_length)\n"
      ],
      "execution_count": null,
      "outputs": []
    },
    {
      "cell_type": "code",
      "metadata": {
        "id": "pCZ5tqiFiyMa"
      },
      "source": [
        "X_test = tokenizer.texts_to_sequences(X_test)\n",
        "test_padded= pad_sequences(X_test,padding=padding_type,maxlen=max_length)\n"
      ],
      "execution_count": null,
      "outputs": []
    },
    {
      "cell_type": "code",
      "metadata": {
        "id": "11oVyKvsnJyg"
      },
      "source": [
        "import numpy as np\n",
        "\n",
        "label_tokenizer=Tokenizer()\n",
        "label_tokenizer.fit_on_texts(labels)\n",
        "\n",
        "y_training=np.array(label_tokenizer.texts_to_sequences(y_train))\n",
        "\n",
        "y_testing=np.array(label_tokenizer.texts_to_sequences(y_test))"
      ],
      "execution_count": null,
      "outputs": []
    },
    {
      "cell_type": "code",
      "metadata": {
        "colab": {
          "base_uri": "https://localhost:8080/"
        },
        "id": "LrOfCjEYn72q",
        "outputId": "dd8d3079-bd0a-4b9d-99da-d728aa311690"
      },
      "source": [
        "model=tf.keras.Sequential([\n",
        "    tf.keras.layers.Embedding(vocab_size,embedding_dim,input_length=max_length),\n",
        "    tf.keras.layers.GlobalMaxPool1D(),\n",
        "    tf.keras.layers.Dense(24,activation='relu'),\n",
        "    tf.keras.layers.Dense(6,activation='softmax')\n",
        "])\n",
        "model.compile(loss=tf.losses.sparse_categorical_crossentropy,optimizer='adam', metrics=['accuracy'])\n",
        "model.summary()"
      ],
      "execution_count": null,
      "outputs": [
        {
          "output_type": "stream",
          "name": "stdout",
          "text": [
            "Model: \"sequential_3\"\n",
            "_________________________________________________________________\n",
            "Layer (type)                 Output Shape              Param #   \n",
            "=================================================================\n",
            "embedding_3 (Embedding)      (None, 120, 16)           16000     \n",
            "_________________________________________________________________\n",
            "global_max_pooling1d_3 (Glob (None, 16)                0         \n",
            "_________________________________________________________________\n",
            "dense_6 (Dense)              (None, 24)                408       \n",
            "_________________________________________________________________\n",
            "dense_7 (Dense)              (None, 6)                 150       \n",
            "=================================================================\n",
            "Total params: 16,558\n",
            "Trainable params: 16,558\n",
            "Non-trainable params: 0\n",
            "_________________________________________________________________\n"
          ]
        }
      ]
    },
    {
      "cell_type": "code",
      "metadata": {
        "colab": {
          "base_uri": "https://localhost:8080/"
        },
        "id": "BzkqQQIQprKx",
        "outputId": "59d08886-3407-45f1-fa07-689920162d87"
      },
      "source": [
        "num_epochs=30\n",
        "history=model.fit(train_padded,y_training,epochs=num_epochs,validation_data=(test_padded,y_testing))"
      ],
      "execution_count": null,
      "outputs": [
        {
          "output_type": "stream",
          "name": "stdout",
          "text": [
            "Epoch 1/30\n",
            "56/56 [==============================] - 1s 5ms/step - loss: 1.7704 - accuracy: 0.2303 - val_loss: 1.7418 - val_accuracy: 0.2270\n",
            "Epoch 2/30\n",
            "56/56 [==============================] - 0s 2ms/step - loss: 1.6869 - accuracy: 0.2371 - val_loss: 1.6312 - val_accuracy: 0.2607\n",
            "Epoch 3/30\n",
            "56/56 [==============================] - 0s 2ms/step - loss: 1.5306 - accuracy: 0.3685 - val_loss: 1.4509 - val_accuracy: 0.4584\n",
            "Epoch 4/30\n",
            "56/56 [==============================] - 0s 3ms/step - loss: 1.2917 - accuracy: 0.5140 - val_loss: 1.1986 - val_accuracy: 0.5573\n",
            "Epoch 5/30\n",
            "56/56 [==============================] - 0s 3ms/step - loss: 1.0150 - accuracy: 0.6343 - val_loss: 0.9502 - val_accuracy: 0.6989\n",
            "Epoch 6/30\n",
            "56/56 [==============================] - 0s 2ms/step - loss: 0.7677 - accuracy: 0.8028 - val_loss: 0.7472 - val_accuracy: 0.8135\n",
            "Epoch 7/30\n",
            "56/56 [==============================] - 0s 3ms/step - loss: 0.5776 - accuracy: 0.8820 - val_loss: 0.6035 - val_accuracy: 0.8494\n",
            "Epoch 8/30\n",
            "56/56 [==============================] - 0s 2ms/step - loss: 0.4425 - accuracy: 0.9146 - val_loss: 0.5102 - val_accuracy: 0.8607\n",
            "Epoch 9/30\n",
            "56/56 [==============================] - 0s 3ms/step - loss: 0.3512 - accuracy: 0.9275 - val_loss: 0.4484 - val_accuracy: 0.8719\n",
            "Epoch 10/30\n",
            "56/56 [==============================] - 0s 2ms/step - loss: 0.2871 - accuracy: 0.9388 - val_loss: 0.4105 - val_accuracy: 0.8787\n",
            "Epoch 11/30\n",
            "56/56 [==============================] - 0s 2ms/step - loss: 0.2404 - accuracy: 0.9466 - val_loss: 0.3802 - val_accuracy: 0.8921\n",
            "Epoch 12/30\n",
            "56/56 [==============================] - 0s 2ms/step - loss: 0.2032 - accuracy: 0.9545 - val_loss: 0.3608 - val_accuracy: 0.8921\n",
            "Epoch 13/30\n",
            "56/56 [==============================] - 0s 2ms/step - loss: 0.1738 - accuracy: 0.9629 - val_loss: 0.3466 - val_accuracy: 0.9011\n",
            "Epoch 14/30\n",
            "56/56 [==============================] - 0s 3ms/step - loss: 0.1508 - accuracy: 0.9680 - val_loss: 0.3366 - val_accuracy: 0.8989\n",
            "Epoch 15/30\n",
            "56/56 [==============================] - 0s 3ms/step - loss: 0.1317 - accuracy: 0.9719 - val_loss: 0.3308 - val_accuracy: 0.9011\n",
            "Epoch 16/30\n",
            "56/56 [==============================] - 0s 2ms/step - loss: 0.1166 - accuracy: 0.9753 - val_loss: 0.3270 - val_accuracy: 0.8989\n",
            "Epoch 17/30\n",
            "56/56 [==============================] - 0s 2ms/step - loss: 0.1034 - accuracy: 0.9792 - val_loss: 0.3236 - val_accuracy: 0.8966\n",
            "Epoch 18/30\n",
            "56/56 [==============================] - 0s 3ms/step - loss: 0.0926 - accuracy: 0.9820 - val_loss: 0.3244 - val_accuracy: 0.8966\n",
            "Epoch 19/30\n",
            "56/56 [==============================] - 0s 2ms/step - loss: 0.0826 - accuracy: 0.9854 - val_loss: 0.3238 - val_accuracy: 0.8944\n",
            "Epoch 20/30\n",
            "56/56 [==============================] - 0s 3ms/step - loss: 0.0745 - accuracy: 0.9854 - val_loss: 0.3263 - val_accuracy: 0.8989\n",
            "Epoch 21/30\n",
            "56/56 [==============================] - 0s 3ms/step - loss: 0.0667 - accuracy: 0.9882 - val_loss: 0.3277 - val_accuracy: 0.8944\n",
            "Epoch 22/30\n",
            "56/56 [==============================] - 0s 3ms/step - loss: 0.0603 - accuracy: 0.9904 - val_loss: 0.3304 - val_accuracy: 0.8944\n",
            "Epoch 23/30\n",
            "56/56 [==============================] - 0s 2ms/step - loss: 0.0542 - accuracy: 0.9933 - val_loss: 0.3342 - val_accuracy: 0.8899\n",
            "Epoch 24/30\n",
            "56/56 [==============================] - 0s 2ms/step - loss: 0.0489 - accuracy: 0.9938 - val_loss: 0.3368 - val_accuracy: 0.8899\n",
            "Epoch 25/30\n",
            "56/56 [==============================] - 0s 2ms/step - loss: 0.0442 - accuracy: 0.9949 - val_loss: 0.3389 - val_accuracy: 0.8899\n",
            "Epoch 26/30\n",
            "56/56 [==============================] - 0s 3ms/step - loss: 0.0399 - accuracy: 0.9955 - val_loss: 0.3423 - val_accuracy: 0.8921\n",
            "Epoch 27/30\n",
            "56/56 [==============================] - 0s 2ms/step - loss: 0.0361 - accuracy: 0.9961 - val_loss: 0.3469 - val_accuracy: 0.8899\n",
            "Epoch 28/30\n",
            "56/56 [==============================] - 0s 3ms/step - loss: 0.0326 - accuracy: 0.9955 - val_loss: 0.3512 - val_accuracy: 0.8876\n",
            "Epoch 29/30\n",
            "56/56 [==============================] - 0s 2ms/step - loss: 0.0296 - accuracy: 0.9961 - val_loss: 0.3527 - val_accuracy: 0.8921\n",
            "Epoch 30/30\n",
            "56/56 [==============================] - 0s 3ms/step - loss: 0.0266 - accuracy: 0.9966 - val_loss: 0.3576 - val_accuracy: 0.8876\n"
          ]
        }
      ]
    },
    {
      "cell_type": "code",
      "metadata": {
        "id": "uznmwIf_qfMs"
      },
      "source": [
        "import matplotlib.pyplot as plt\n",
        "def plot_graphs(history,string):\n",
        "    plt.plot(history.history[string])\n",
        "    plt.plot(history.history['val_'+string])\n",
        "    plt.xlabel('Epochs')\n",
        "    plt.ylabel(string)\n",
        "    plt.legend([string, 'val_'+string])\n",
        "    plt.show()"
      ],
      "execution_count": null,
      "outputs": []
    },
    {
      "cell_type": "code",
      "metadata": {
        "colab": {
          "base_uri": "https://localhost:8080/",
          "height": 541
        },
        "id": "x328h_oErtxN",
        "outputId": "b9e00493-5ac9-48d9-e73b-3db391cdcba8"
      },
      "source": [
        "plot_graphs(history,'accuracy')\n",
        "plot_graphs(history,'loss')"
      ],
      "execution_count": null,
      "outputs": [
        {
          "output_type": "display_data",
          "data": {
            "image/png": "[encoded data removed]",
            "text/plain": [
              "<Figure size 432x288 with 1 Axes>"
            ]
          },
          "metadata": {
            "needs_background": "light"
          }
        },
        {
          "output_type": "display_data",
          "data": {
            "image/png": "[encoded data removed]",
            "text/plain": [
              "<Figure size 432x288 with 1 Axes>"
            ]
          },
          "metadata": {
            "needs_background": "light"
          }
        }
      ]
    },
    {
      "cell_type": "code",
      "metadata": {
        "id": "P_MhiIDLr55G"
      },
      "source": [],
      "execution_count": null,
      "outputs": []
    }
  ]
}